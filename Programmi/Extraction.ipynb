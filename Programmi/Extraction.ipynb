{
 "cells": [
  {
   "cell_type": "markdown",
   "id": "838c46f6",
   "metadata": {},
   "source": [
    "<span style=\"color:red; font-size:30px;\"> The aim of this code is to extract the form facors computed in arXiv:1503.01421 </span>"
   ]
  },
  {
   "cell_type": "markdown",
   "id": "6837c221",
   "metadata": {},
   "source": [
    "======================================================================================================\n",
    "\n",
    "<span style=\"color:blue; font-size:30px;\"> Extraction of data from the files </span>\n",
    "\n",
    "======================================================================================================"
   ]
  },
  {
   "cell_type": "code",
   "execution_count": 2,
   "id": "8020fb46",
   "metadata": {},
   "outputs": [
    {
     "name": "stdout",
     "output_type": "stream",
     "text": [
      "['a0_fplus', 'a1_fplus', 'a2_fplus', 'a0_f0', 'a1_f0', 'a2_f0', 'a0_fperp', 'a1_fperp', 'a2_fperp', 'a0_gpp', 'a1_gplus', 'a2_gplus', 'a0_g0', 'a1_g0', 'a2_g0', 'a1_gperp', 'a2_gperp']\n",
      "0.000762429069378\n",
      "0.78618045366394\n"
     ]
    }
   ],
   "source": [
    "import csv\n",
    "from collections import OrderedDict\n",
    "\n",
    "file_path = '/Users/manuel/Desktop/LambdabLambdac_HO_covariance.dat' \n",
    "Cov = OrderedDict()  # Utilizziamo OrderedDict per mantenere l'ordine di inserimento delle chiavi\n",
    "chiavi_ordinate = []\n",
    "\n",
    "with open(file_path, 'r') as file:\n",
    "    reader = csv.reader(file, delimiter=' ')\n",
    "    for row in reader:\n",
    "        chiave1 = row[0]\n",
    "        chiave2 = row[2]\n",
    "        valore = float(row[4])\n",
    "        \n",
    "        if chiave1 not in Cov:\n",
    "            Cov[chiave1] = {}\n",
    "            chiavi_ordinate.append(chiave1)\n",
    "        \n",
    "        Cov[chiave1][chiave2] = valore\n",
    "\n",
    "# Stampa delle chiavi ordinate\n",
    "print(chiavi_ordinate)\n",
    "print(Cov[chiavi_ordinate[0]][chiavi_ordinate[0]])\n",
    "\n",
    "file_path2 = '/Users/manuel/Desktop/LambdabLambdac_HO_results.dat'\n",
    "Mean = OrderedDict()\n",
    "with open(file_path2, 'r') as file2:\n",
    "    reader = csv.reader(file2, delimiter=' ')\n",
    "    for row in reader:\n",
    "        chiave = row[0]\n",
    "        valore = float(row[2])\n",
    "        \n",
    "        Mean[chiave] = valore\n",
    "        \n",
    "print(Mean[chiavi_ordinate[2]])"
   ]
  },
  {
   "cell_type": "markdown",
   "id": "33729d4b",
   "metadata": {},
   "source": [
    "======================================================================================================\n",
    "\n",
    "<span style=\"color:blue; font-size:30px;\"> Generation of the distribution from a gaussian multivariate </span>\n",
    "\n",
    "======================================================================================================"
   ]
  },
  {
   "cell_type": "code",
   "execution_count": 3,
   "id": "a6fc137b",
   "metadata": {},
   "outputs": [
    {
     "name": "stdout",
     "output_type": "stream",
     "text": [
      "0.7170106567581273\n",
      "17\n"
     ]
    }
   ],
   "source": [
    "import numpy as np\n",
    "Nboot = 1000\n",
    "\n",
    "# Ottieni la lista delle chiavi ordinate dal dizionario Cov\n",
    "chiavi_ordinate = list(Cov.keys())\n",
    "\n",
    "# Ottieni la dimensione della matrice di covarianza\n",
    "dimensione = len(chiavi_ordinate)\n",
    "\n",
    "# Crea una matrice di covarianza vuota\n",
    "covarianza = np.zeros((dimensione, dimensione))\n",
    "Media = np.zeros(dimensione)\n",
    "\n",
    "# Riempire la matrice di covarianza con i valori corrispondenti dal dizionario Cov\n",
    "for i in range(dimensione):\n",
    "    chiave1 = chiavi_ordinate[i]\n",
    "    Media[i] = Mean[chiave1]\n",
    "    for j in range(dimensione):\n",
    "        chiave2 = chiavi_ordinate[j]\n",
    "        valore = Cov[chiave1][chiave2]\n",
    "        covarianza[i, j] = valore\n",
    "\n",
    "# Genera i campioni casuali dalla distribuzione gaussiana multivariata\n",
    "campioni = np.random.multivariate_normal(mean=Media, cov=covarianza, size=Nboot)\n",
    "\n",
    "# Crea un dizionario con i nomi corrispondenti ai campioni\n",
    "campioni_dict = {}\n",
    "for i in range(dimensione):\n",
    "    chiave = chiavi_ordinate[i]\n",
    "    campioni_dict[chiave] = campioni[:, i]\n",
    "\n",
    "# Stampa i campioni generati come dizionario\n",
    "#print(campioni_dict)\n",
    "print(campioni_dict['a0_fplus'][0])\n",
    "print(len(campioni_dict))\n",
    "#print(campioni_dict)"
   ]
  },
  {
   "cell_type": "markdown",
   "id": "49d70289",
   "metadata": {},
   "source": [
    "======================================================================================================\n",
    "\n",
    "<span style=\"color:blue; font-size:30px;\"> Definition of the functions for the computation of the ffs </span>\n",
    "\n",
    "$f_{HO}(q^2) = \\frac{1}{1-q^2/(m^f_{pole})^2}\\big[ a_0^f + a_1^f z^f(q^2) + a_2^f [z^f(q^2)]^2 \\big]$\n",
    "\n",
    "where \n",
    "\n",
    "$z^f(q^2) = \\frac{\\sqrt{t_+^f-q^2}-\\sqrt{t_+^f-t_0}}{\\sqrt{t_+^f - q^2}+-\\sqrt{t_+^f-t_0}}$\n",
    "\n",
    "======================================================================================================"
   ]
  },
  {
   "cell_type": "code",
   "execution_count": 4,
   "id": "71a55bf0",
   "metadata": {},
   "outputs": [],
   "source": [
    "def zf(tp_, q2_, tz_):\n",
    "    return (np.sqrt(tp_-q2_)-np.sqrt(tp_-tz_))/(np.sqrt(tp_-q2_)+np.sqrt(tp_-tz_))\n",
    "    \n",
    "def ff_f(q2_, Mpole_, tp_, tz_, a0_, a1_, a2_):\n",
    "    return 1/( 1 - q2_/(Mpole_**2) )*( a0_ + a1_*zf(tp_,q2_,tz_) + a2_*zf(tp_,q2_,tz_)**2 )"
   ]
  },
  {
   "cell_type": "markdown",
   "id": "3b03639b",
   "metadata": {},
   "source": [
    "======================================================================================================\n",
    "\n",
    "<span style=\"color:blue; font-size:30px;\"> Definition of the relevant quantities </span>\n",
    "\n",
    "$t_0 = (m_{\\Lambda_b}-m_{\\Lambda_c})^2,$\n",
    "\n",
    "$m_{pole} = m_{B_c} + \\Delta^f$, (see Table VII of the paper),\n",
    "\n",
    "$t_+ = (m_{pole})^2.$\n",
    "\n",
    "======================================================================================================"
   ]
  },
  {
   "cell_type": "code",
   "execution_count": 5,
   "id": "43759c7c",
   "metadata": {},
   "outputs": [
    {
     "name": "stdout",
     "output_type": "stream",
     "text": [
      "{'fplus': 0.056, 'f0': 0.449, 'fperp': 0.056, 'gplus': 0.492, 'g0': 0, 'gperp': 0.492}\n",
      "{'fplus': 6.332, 'f0': 6.725, 'fperp': 6.332, 'gplus': 6.768, 'g0': 6.276, 'gperp': 6.768}\n",
      "{'fplus': 40.094224, 'f0': 45.225624999999994, 'fperp': 40.094224, 'gplus': 45.805823999999994, 'g0': 39.388175999999994, 'gperp': 45.805823999999994}\n"
     ]
    }
   ],
   "source": [
    "MBc = 6.276\n",
    "MLb = 5.6202\n",
    "MLc = 2.28646\n",
    "\n",
    "ff_str = ['fplus', 'f0', 'fperp', 'gplus', 'g0', 'gperp']\n",
    "ff = {'fplus': 0.056, 'f0': 0.449, 'fperp': 0.056, 'gplus': 0.492, 'g0': 0, 'gperp': 0.492}\n",
    "print(ff)\n",
    "\n",
    "# Aggiungo MBc alle delta\n",
    "Mpole = {}\n",
    "tp = {}\n",
    "for chiave in ff:\n",
    "    Mpole[chiave] = ff[chiave] + MBc\n",
    "    tp[chiave] = Mpole[chiave]**2\n",
    "\n",
    "tz = ( MLb - MLc )**2\n",
    "\n",
    "print(Mpole)\n",
    "print(tp)"
   ]
  },
  {
   "cell_type": "markdown",
   "id": "5d0b15b3",
   "metadata": {},
   "source": [
    "======================================================================================================\n",
    "\n",
    "<span style=\"color:blue; font-size:30px;\"> Computation of the FFs </span>\n",
    "\n",
    "======================================================================================================"
   ]
  },
  {
   "cell_type": "code",
   "execution_count": 7,
   "id": "d581fc4e",
   "metadata": {},
   "outputs": [],
   "source": [
    "ff_comp = {}\n",
    "\n",
    "bins = np.arange(0, tz, 0.1)\n",
    "\n",
    "for b in range(len(bins)):\n",
    "    for j in range(6):\n",
    "        chiave = ff_str[j]  \n",
    "        chiave0 = chiave\n",
    "        if chiave == 'gplus' or chiave == 'gperp':\n",
    "            chiave0 = 'gpp'\n",
    "        if chiave not in ff_comp:\n",
    "            ff_comp[chiave] = {}\n",
    "        for i in range(Nboot):\n",
    "            if i not in ff_comp[chiave]:\n",
    "                ff_comp[chiave][i] = {}\n",
    "            ff_comp[chiave][b][i] = ff_f(bins[b], Mpole[chiave], tp[chiave], tz, campioni_dict[f'a0_{chiave0}'][i], campioni_dict[f'a1_{chiave}'][i], campioni_dict[f'a2_{chiave}'][i])\n",
    "\n",
    "#print(ff_comp['gperp'][0])"
   ]
  },
  {
   "cell_type": "markdown",
   "id": "7dc29cd2",
   "metadata": {},
   "source": [
    "======================================================================================================\n",
    "\n",
    "<span style=\"color:blue; font-size:30px;\"> Mean and Sigma bootstrap </span>\n",
    "\n",
    "======================================================================================================"
   ]
  },
  {
   "cell_type": "code",
   "execution_count": 8,
   "id": "f5f62981",
   "metadata": {
    "scrolled": true
   },
   "outputs": [
    {
     "name": "stdout",
     "output_type": "stream",
     "text": [
      "112\n",
      "1.5118361020167608\n"
     ]
    }
   ],
   "source": [
    "media_bootstrap = {}\n",
    "sigma_bootstrap = {}\n",
    "\n",
    "for chiave in ff_str:\n",
    "    media_bootstrap[chiave] = np.zeros(len(bins))\n",
    "    sigma_bootstrap[chiave] = np.zeros(len(bins))\n",
    "\n",
    "    for b in range(len(bins)):\n",
    "        campioni = [ff_comp[chiave][b][i] for i in range(Nboot)]\n",
    "        media_bootstrap[chiave][b] = np.mean(campioni)\n",
    "        sigma_bootstrap[chiave][b] = np.std(campioni)\n",
    "\n",
    "print(len(bins))\n",
    "print(media_bootstrap['fperp'][111])"
   ]
  },
  {
   "cell_type": "markdown",
   "id": "b49e2fb3",
   "metadata": {},
   "source": [
    "======================================================================================================\n",
    "\n",
    "<span style=\"color:blue; font-size:30px;\"> Plots </span>\n",
    "\n",
    "======================================================================================================"
   ]
  },
  {
   "cell_type": "code",
   "execution_count": 9,
   "id": "240a41bc",
   "metadata": {},
   "outputs": [
    {
     "data": {
      "image/png": "[encoded data removed]",
      "text/plain": [
       "<Figure size 640x480 with 1 Axes>"
      ]
     },
     "metadata": {},
     "output_type": "display_data"
    }
   ],
   "source": [
    "import matplotlib.pyplot as plt\n",
    "\n",
    "for chiave in ff_str:\n",
    "    plt.errorbar(bins/tz, media_bootstrap[chiave], yerr=sigma_bootstrap[chiave], label=chiave)\n",
    "\n",
    "plt.xlabel('q2/qmax')\n",
    "plt.ylabel('Media Bootstrap')\n",
    "plt.xlim(0.55, 1)\n",
    "plt.legend()\n",
    "plt.show()"
   ]
  },
  {
   "cell_type": "code",
   "execution_count": null,
   "id": "be3364bb",
   "metadata": {},
   "outputs": [],
   "source": []
  }
 ],
 "metadata": {
  "kernelspec": {
   "display_name": "Python 3 (ipykernel)",
   "language": "python",
   "name": "python3"
  },
  "language_info": {
   "codemirror_mode": {
    "name": "ipython",
    "version": 3
   },
   "file_extension": ".py",
   "mimetype": "text/x-python",
   "name": "python",
   "nbconvert_exporter": "python",
   "pygments_lexer": "ipython3",
   "version": "3.11.3"
  }
 },
 "nbformat": 4,
 "nbformat_minor": 5
}
